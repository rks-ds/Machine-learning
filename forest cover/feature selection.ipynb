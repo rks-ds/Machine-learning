{
 "cells": [
  {
   "cell_type": "code",
   "execution_count": 1,
   "metadata": {
    "collapsed": false
   },
   "outputs": [
    {
     "data": {
      "text/html": [
       "<div>\n",
       "<table border=\"1\" class=\"dataframe\">\n",
       "  <thead>\n",
       "    <tr style=\"text-align: right;\">\n",
       "      <th></th>\n",
       "      <th>Elevation</th>\n",
       "      <th>Aspect</th>\n",
       "      <th>Slope</th>\n",
       "      <th>Horizontal_Distance_To_Hydrology</th>\n",
       "      <th>Horizontal_Distance_To_Roadways</th>\n",
       "      <th>Hillshade_9am</th>\n",
       "      <th>Hillshade_Noon</th>\n",
       "      <th>Hillshade_3pm</th>\n",
       "      <th>Horizontal_Distance_To_Fire_Points</th>\n",
       "      <th>Wilderness_Area</th>\n",
       "      <th>Soil_Type</th>\n",
       "      <th>Cover_Type</th>\n",
       "    </tr>\n",
       "  </thead>\n",
       "  <tbody>\n",
       "    <tr>\n",
       "      <th>0</th>\n",
       "      <td>101.251610</td>\n",
       "      <td>11.391468</td>\n",
       "      <td>1.982917</td>\n",
       "      <td>19.776085</td>\n",
       "      <td>14.878703</td>\n",
       "      <td>8.911152e+07</td>\n",
       "      <td>7.705315e+08</td>\n",
       "      <td>301.766934</td>\n",
       "      <td>29.452994</td>\n",
       "      <td>1</td>\n",
       "      <td>29</td>\n",
       "      <td>5</td>\n",
       "    </tr>\n",
       "    <tr>\n",
       "      <th>1</th>\n",
       "      <td>101.131754</td>\n",
       "      <td>11.983506</td>\n",
       "      <td>1.454389</td>\n",
       "      <td>18.138371</td>\n",
       "      <td>13.665600</td>\n",
       "      <td>8.766436e+07</td>\n",
       "      <td>8.110778e+08</td>\n",
       "      <td>308.929988</td>\n",
       "      <td>29.383926</td>\n",
       "      <td>1</td>\n",
       "      <td>29</td>\n",
       "      <td>5</td>\n",
       "    </tr>\n",
       "    <tr>\n",
       "      <th>2</th>\n",
       "      <td>105.324621</td>\n",
       "      <td>19.336298</td>\n",
       "      <td>4.259428</td>\n",
       "      <td>20.108048</td>\n",
       "      <td>25.711934</td>\n",
       "      <td>1.095384e+08</td>\n",
       "      <td>8.532048e+08</td>\n",
       "      <td>271.021396</td>\n",
       "      <td>29.249611</td>\n",
       "      <td>1</td>\n",
       "      <td>12</td>\n",
       "      <td>2</td>\n",
       "    </tr>\n",
       "    <tr>\n",
       "      <th>3</th>\n",
       "      <td>104.958949</td>\n",
       "      <td>20.447996</td>\n",
       "      <td>6.583450</td>\n",
       "      <td>19.228250</td>\n",
       "      <td>25.501260</td>\n",
       "      <td>1.164529e+08</td>\n",
       "      <td>8.532048e+08</td>\n",
       "      <td>240.782487</td>\n",
       "      <td>29.365946</td>\n",
       "      <td>1</td>\n",
       "      <td>30</td>\n",
       "      <td>2</td>\n",
       "    </tr>\n",
       "    <tr>\n",
       "      <th>4</th>\n",
       "      <td>101.231644</td>\n",
       "      <td>10.639349</td>\n",
       "      <td>1.454389</td>\n",
       "      <td>15.682248</td>\n",
       "      <td>13.676801</td>\n",
       "      <td>8.766436e+07</td>\n",
       "      <td>7.973887e+08</td>\n",
       "      <td>306.539552</td>\n",
       "      <td>29.315693</td>\n",
       "      <td>1</td>\n",
       "      <td>29</td>\n",
       "      <td>5</td>\n",
       "    </tr>\n",
       "  </tbody>\n",
       "</table>\n",
       "</div>"
      ],
      "text/plain": [
       "    Elevation     Aspect     Slope  Horizontal_Distance_To_Hydrology  \\\n",
       "0  101.251610  11.391468  1.982917                         19.776085   \n",
       "1  101.131754  11.983506  1.454389                         18.138371   \n",
       "2  105.324621  19.336298  4.259428                         20.108048   \n",
       "3  104.958949  20.447996  6.583450                         19.228250   \n",
       "4  101.231644  10.639349  1.454389                         15.682248   \n",
       "\n",
       "   Horizontal_Distance_To_Roadways  Hillshade_9am  Hillshade_Noon  \\\n",
       "0                        14.878703   8.911152e+07    7.705315e+08   \n",
       "1                        13.665600   8.766436e+07    8.110778e+08   \n",
       "2                        25.711934   1.095384e+08    8.532048e+08   \n",
       "3                        25.501260   1.164529e+08    8.532048e+08   \n",
       "4                        13.676801   8.766436e+07    7.973887e+08   \n",
       "\n",
       "   Hillshade_3pm  Horizontal_Distance_To_Fire_Points  Wilderness_Area  \\\n",
       "0     301.766934                           29.452994                1   \n",
       "1     308.929988                           29.383926                1   \n",
       "2     271.021396                           29.249611                1   \n",
       "3     240.782487                           29.365946                1   \n",
       "4     306.539552                           29.315693                1   \n",
       "\n",
       "   Soil_Type  Cover_Type  \n",
       "0         29           5  \n",
       "1         29           5  \n",
       "2         12           2  \n",
       "3         30           2  \n",
       "4         29           5  "
      ]
     },
     "execution_count": 1,
     "metadata": {},
     "output_type": "execute_result"
    }
   ],
   "source": [
    "#feature selection\n",
    "import pandas as pd\n",
    "train_boxcox=pd.read_csv(\"train_boxcox.csv\")\n",
    "train_boxcox.head()"
   ]
  },
  {
   "cell_type": "code",
   "execution_count": 14,
   "metadata": {
    "collapsed": false
   },
   "outputs": [
    {
     "name": "stdout",
     "output_type": "stream",
     "text": [
      "['Elevation', 'Aspect', 'Slope', 'Horizontal_Distance_To_Hydrology', 'Horizontal_Distance_To_Roadways', 'Hillshade_9am', 'Hillshade_Noon', 'Hillshade_3pm', 'Horizontal_Distance_To_Fire_Points', 'Wilderness_Area']\n",
      "[1 3 4 1 1 1 1 1 2 5]\n",
      "[(1, 'Elevation'), (1, 'Hillshade_3pm'), (1, 'Hillshade_9am'), (1, 'Hillshade_Noon'), (1, 'Horizontal_Distance_To_Hydrology'), (1, 'Horizontal_Distance_To_Roadways'), (2, 'Horizontal_Distance_To_Fire_Points'), (3, 'Aspect'), (4, 'Slope'), (5, 'Wilderness_Area')]\n"
     ]
    }
   ],
   "source": [
    "from sklearn.feature_selection import RFE\n",
    "from sklearn.linear_model import LogisticRegression\n",
    "model=LogisticRegression()\n",
    "rfe=RFE(model,6)\n",
    "rfem=rfe.fit(train_boxcox.ix[:,0:10],train_boxcox.ix[:,11])\n",
    "names=list(train_boxcox.ix[:,0:10].columns)\n",
    "print(names)\n",
    "\n",
    "print(rfem.ranking_)\n",
    "print (sorted(zip(map(lambda x: round(x, 4), rfe.ranking_), names)))\n",
    " \n",
    "#binning of soiltype may help\n"
   ]
  },
  {
   "cell_type": "code",
   "execution_count": 2,
   "metadata": {
    "collapsed": false
   },
   "outputs": [
    {
     "data": {
      "text/html": [
       "<div>\n",
       "<table border=\"1\" class=\"dataframe\">\n",
       "  <thead>\n",
       "    <tr style=\"text-align: right;\">\n",
       "      <th></th>\n",
       "      <th>Elevation</th>\n",
       "      <th>Aspect</th>\n",
       "      <th>Slope</th>\n",
       "      <th>Horizontal_Distance_To_Roadways</th>\n",
       "      <th>Hillshade_9am</th>\n",
       "      <th>Hillshade_Noon</th>\n",
       "      <th>Hillshade_3pm</th>\n",
       "      <th>Horizontal_Distance_To_Fire_Points</th>\n",
       "      <th>Wilderness_Area</th>\n",
       "      <th>Soil_Type</th>\n",
       "    </tr>\n",
       "  </thead>\n",
       "  <tbody>\n",
       "    <tr>\n",
       "      <th>0</th>\n",
       "      <td>-0.367095</td>\n",
       "      <td>7.141428</td>\n",
       "      <td>1.732051</td>\n",
       "      <td>6.236370</td>\n",
       "      <td>3.526361</td>\n",
       "      <td>3.135494</td>\n",
       "      <td>0.281259</td>\n",
       "      <td>8.745125</td>\n",
       "      <td>0</td>\n",
       "      <td>29</td>\n",
       "    </tr>\n",
       "    <tr>\n",
       "      <th>1</th>\n",
       "      <td>-0.381461</td>\n",
       "      <td>7.483315</td>\n",
       "      <td>1.414214</td>\n",
       "      <td>5.968708</td>\n",
       "      <td>3.555348</td>\n",
       "      <td>2.995732</td>\n",
       "      <td>0.346627</td>\n",
       "      <td>8.736489</td>\n",
       "      <td>0</td>\n",
       "      <td>29</td>\n",
       "    </tr>\n",
       "    <tr>\n",
       "      <th>2</th>\n",
       "      <td>0.130912</td>\n",
       "      <td>11.789826</td>\n",
       "      <td>3.000000</td>\n",
       "      <td>8.064951</td>\n",
       "      <td>3.044522</td>\n",
       "      <td>2.833213</td>\n",
       "      <td>-0.002005</td>\n",
       "      <td>8.719644</td>\n",
       "      <td>0</td>\n",
       "      <td>12</td>\n",
       "    </tr>\n",
       "    <tr>\n",
       "      <th>3</th>\n",
       "      <td>0.085421</td>\n",
       "      <td>12.449900</td>\n",
       "      <td>4.242641</td>\n",
       "      <td>8.036250</td>\n",
       "      <td>2.833213</td>\n",
       "      <td>2.833213</td>\n",
       "      <td>-0.285268</td>\n",
       "      <td>8.734238</td>\n",
       "      <td>0</td>\n",
       "      <td>30</td>\n",
       "    </tr>\n",
       "    <tr>\n",
       "      <th>4</th>\n",
       "      <td>-0.369489</td>\n",
       "      <td>6.708204</td>\n",
       "      <td>1.414214</td>\n",
       "      <td>5.971262</td>\n",
       "      <td>3.555348</td>\n",
       "      <td>3.044522</td>\n",
       "      <td>0.324838</td>\n",
       "      <td>8.727940</td>\n",
       "      <td>0</td>\n",
       "      <td>29</td>\n",
       "    </tr>\n",
       "  </tbody>\n",
       "</table>\n",
       "</div>"
      ],
      "text/plain": [
       "   Elevation     Aspect     Slope  Horizontal_Distance_To_Roadways  \\\n",
       "0  -0.367095   7.141428  1.732051                         6.236370   \n",
       "1  -0.381461   7.483315  1.414214                         5.968708   \n",
       "2   0.130912  11.789826  3.000000                         8.064951   \n",
       "3   0.085421  12.449900  4.242641                         8.036250   \n",
       "4  -0.369489   6.708204  1.414214                         5.971262   \n",
       "\n",
       "   Hillshade_9am  Hillshade_Noon  Hillshade_3pm  \\\n",
       "0       3.526361        3.135494       0.281259   \n",
       "1       3.555348        2.995732       0.346627   \n",
       "2       3.044522        2.833213      -0.002005   \n",
       "3       2.833213        2.833213      -0.285268   \n",
       "4       3.555348        3.044522       0.324838   \n",
       "\n",
       "   Horizontal_Distance_To_Fire_Points  Wilderness_Area  Soil_Type  \n",
       "0                            8.745125                0         29  \n",
       "1                            8.736489                0         29  \n",
       "2                            8.719644                0         12  \n",
       "3                            8.734238                0         30  \n",
       "4                            8.727940                0         29  "
      ]
     },
     "execution_count": 2,
     "metadata": {},
     "output_type": "execute_result"
    }
   ],
   "source": [
    "#feature selection on manually transformed data\n",
    "train=pd.read_csv(\"train_manualtransformation.csv\")\n",
    "train.head()"
   ]
  },
  {
   "cell_type": "code",
   "execution_count": 4,
   "metadata": {
    "collapsed": false
   },
   "outputs": [
    {
     "name": "stdout",
     "output_type": "stream",
     "text": [
      "['Elevation', 'Aspect', 'Slope', 'Horizontal_Distance_To_Roadways', 'Hillshade_9am', 'Hillshade_Noon', 'Hillshade_3pm', 'Horizontal_Distance_To_Fire_Points', 'Wilderness_Area', 'Soil_Type']\n",
      "[1 5 2 1 1 1 1 3 1 4]\n",
      "[(1, 'Elevation'), (1, 'Hillshade_3pm'), (1, 'Hillshade_9am'), (1, 'Hillshade_Noon'), (1, 'Horizontal_Distance_To_Roadways'), (1, 'Wilderness_Area'), (2, 'Slope'), (3, 'Horizontal_Distance_To_Fire_Points'), (4, 'Soil_Type'), (5, 'Aspect')]\n"
     ]
    }
   ],
   "source": [
    "from sklearn.feature_selection import RFE\n",
    "from sklearn.linear_model import LogisticRegression\n",
    "model=LogisticRegression()\n",
    "rfe=RFE(model,6)\n",
    "rfem=rfe.fit(train.ix[:,0:10],train_boxcox.ix[:,11])\n",
    "names=list(train.ix[:,0:10].columns)\n",
    "print(names)\n",
    "\n",
    "print(rfem.ranking_)\n",
    "print (sorted(zip(map(lambda x: round(x, 4), rfe.ranking_), names)))\n",
    "\n",
    "\n"
   ]
  },
  {
   "cell_type": "code",
   "execution_count": 5,
   "metadata": {
    "collapsed": true
   },
   "outputs": [],
   "source": [
    "#elevation, hillshade_3pm, hillshade_9am,hillshade_Noon,Horizontal_Distance_To_Roadways,Wilderness_Area,Slope,Horizontal_Distance_To_Fire_Points"
   ]
  },
  {
   "cell_type": "code",
   "execution_count": null,
   "metadata": {
    "collapsed": true
   },
   "outputs": [],
   "source": []
  }
 ],
 "metadata": {
  "kernelspec": {
   "display_name": "Python [conda root]",
   "language": "python",
   "name": "conda-root-py"
  },
  "language_info": {
   "codemirror_mode": {
    "name": "ipython",
    "version": 3
   },
   "file_extension": ".py",
   "mimetype": "text/x-python",
   "name": "python",
   "nbconvert_exporter": "python",
   "pygments_lexer": "ipython3",
   "version": "3.5.2"
  }
 },
 "nbformat": 4,
 "nbformat_minor": 1
}
