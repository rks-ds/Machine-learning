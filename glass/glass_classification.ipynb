{
 "cells": [
  {
   "cell_type": "code",
   "execution_count": 2,
   "metadata": {
    "collapsed": true
   },
   "outputs": [],
   "source": [
    "#classification\n",
    "import pandas as pd\n",
    "train=pd.read_csv(\"glass.csv\")"
   ]
  },
  {
   "cell_type": "code",
   "execution_count": 3,
   "metadata": {
    "collapsed": false
   },
   "outputs": [
    {
     "data": {
      "text/html": [
       "<div>\n",
       "<table border=\"1\" class=\"dataframe\">\n",
       "  <thead>\n",
       "    <tr style=\"text-align: right;\">\n",
       "      <th></th>\n",
       "      <th>RI</th>\n",
       "      <th>Na</th>\n",
       "      <th>Mg</th>\n",
       "      <th>Al</th>\n",
       "      <th>Si</th>\n",
       "      <th>K</th>\n",
       "      <th>Ca</th>\n",
       "      <th>Ba</th>\n",
       "      <th>Fe</th>\n",
       "      <th>Type</th>\n",
       "    </tr>\n",
       "  </thead>\n",
       "  <tbody>\n",
       "    <tr>\n",
       "      <th>0</th>\n",
       "      <td>1.52101</td>\n",
       "      <td>13.64</td>\n",
       "      <td>4.49</td>\n",
       "      <td>1.10</td>\n",
       "      <td>71.78</td>\n",
       "      <td>0.06</td>\n",
       "      <td>8.75</td>\n",
       "      <td>0.0</td>\n",
       "      <td>0.0</td>\n",
       "      <td>1</td>\n",
       "    </tr>\n",
       "    <tr>\n",
       "      <th>1</th>\n",
       "      <td>1.51761</td>\n",
       "      <td>13.89</td>\n",
       "      <td>3.60</td>\n",
       "      <td>1.36</td>\n",
       "      <td>72.73</td>\n",
       "      <td>0.48</td>\n",
       "      <td>7.83</td>\n",
       "      <td>0.0</td>\n",
       "      <td>0.0</td>\n",
       "      <td>1</td>\n",
       "    </tr>\n",
       "    <tr>\n",
       "      <th>2</th>\n",
       "      <td>1.51618</td>\n",
       "      <td>13.53</td>\n",
       "      <td>3.55</td>\n",
       "      <td>1.54</td>\n",
       "      <td>72.99</td>\n",
       "      <td>0.39</td>\n",
       "      <td>7.78</td>\n",
       "      <td>0.0</td>\n",
       "      <td>0.0</td>\n",
       "      <td>1</td>\n",
       "    </tr>\n",
       "    <tr>\n",
       "      <th>3</th>\n",
       "      <td>1.51766</td>\n",
       "      <td>13.21</td>\n",
       "      <td>3.69</td>\n",
       "      <td>1.29</td>\n",
       "      <td>72.61</td>\n",
       "      <td>0.57</td>\n",
       "      <td>8.22</td>\n",
       "      <td>0.0</td>\n",
       "      <td>0.0</td>\n",
       "      <td>1</td>\n",
       "    </tr>\n",
       "    <tr>\n",
       "      <th>4</th>\n",
       "      <td>1.51742</td>\n",
       "      <td>13.27</td>\n",
       "      <td>3.62</td>\n",
       "      <td>1.24</td>\n",
       "      <td>73.08</td>\n",
       "      <td>0.55</td>\n",
       "      <td>8.07</td>\n",
       "      <td>0.0</td>\n",
       "      <td>0.0</td>\n",
       "      <td>1</td>\n",
       "    </tr>\n",
       "  </tbody>\n",
       "</table>\n",
       "</div>"
      ],
      "text/plain": [
       "        RI     Na    Mg    Al     Si     K    Ca   Ba   Fe  Type\n",
       "0  1.52101  13.64  4.49  1.10  71.78  0.06  8.75  0.0  0.0     1\n",
       "1  1.51761  13.89  3.60  1.36  72.73  0.48  7.83  0.0  0.0     1\n",
       "2  1.51618  13.53  3.55  1.54  72.99  0.39  7.78  0.0  0.0     1\n",
       "3  1.51766  13.21  3.69  1.29  72.61  0.57  8.22  0.0  0.0     1\n",
       "4  1.51742  13.27  3.62  1.24  73.08  0.55  8.07  0.0  0.0     1"
      ]
     },
     "execution_count": 3,
     "metadata": {},
     "output_type": "execute_result"
    }
   ],
   "source": [
    "train.head()\n",
    "\n"
   ]
  },
  {
   "cell_type": "code",
   "execution_count": 4,
   "metadata": {
    "collapsed": false
   },
   "outputs": [
    {
     "data": {
      "text/plain": [
       "RI      float64\n",
       "Na      float64\n",
       "Mg      float64\n",
       "Al      float64\n",
       "Si      float64\n",
       "K       float64\n",
       "Ca      float64\n",
       "Ba      float64\n",
       "Fe      float64\n",
       "Type      int64\n",
       "dtype: object"
      ]
     },
     "execution_count": 4,
     "metadata": {},
     "output_type": "execute_result"
    }
   ],
   "source": [
    "#Hypothesis testing - Silica and sand,Na, and Ca should be most important variable, refractive index of similar type should be near\n",
    "#what really the value of columns Na, Mg , Al and Si, K, Ca, Ba , Fe\n",
    "#My intuition says that for every type of glass refractive index will be quite similar so it can be converted into categorical variable\n",
    "#The numerical values of various elements is not on same scale which can be a problem in some algorithm\n",
    "train.dtypes\n",
    "\n"
   ]
  },
  {
   "cell_type": "code",
   "execution_count": 5,
   "metadata": {
    "collapsed": false
   },
   "outputs": [],
   "source": [
    "import numpy as np"
   ]
  },
  {
   "cell_type": "code",
   "execution_count": 37,
   "metadata": {
    "collapsed": false
   },
   "outputs": [
    {
     "data": {
      "text/plain": [
       "(175, 10)"
      ]
     },
     "execution_count": 37,
     "metadata": {},
     "output_type": "execute_result"
    }
   ],
   "source": [
    "train.describe()\n",
    "train.shape"
   ]
  },
  {
   "cell_type": "code",
   "execution_count": 7,
   "metadata": {
    "collapsed": false
   },
   "outputs": [
    {
     "data": {
      "text/html": [
       "<div>\n",
       "<table border=\"1\" class=\"dataframe\">\n",
       "  <thead>\n",
       "    <tr style=\"text-align: right;\">\n",
       "      <th>col_0</th>\n",
       "      <th>count</th>\n",
       "    </tr>\n",
       "    <tr>\n",
       "      <th>Type</th>\n",
       "      <th></th>\n",
       "    </tr>\n",
       "  </thead>\n",
       "  <tbody>\n",
       "    <tr>\n",
       "      <th>1</th>\n",
       "      <td>70</td>\n",
       "    </tr>\n",
       "    <tr>\n",
       "      <th>2</th>\n",
       "      <td>76</td>\n",
       "    </tr>\n",
       "    <tr>\n",
       "      <th>3</th>\n",
       "      <td>17</td>\n",
       "    </tr>\n",
       "    <tr>\n",
       "      <th>5</th>\n",
       "      <td>13</td>\n",
       "    </tr>\n",
       "    <tr>\n",
       "      <th>6</th>\n",
       "      <td>9</td>\n",
       "    </tr>\n",
       "    <tr>\n",
       "      <th>7</th>\n",
       "      <td>29</td>\n",
       "    </tr>\n",
       "  </tbody>\n",
       "</table>\n",
       "</div>"
      ],
      "text/plain": [
       "col_0  count\n",
       "Type        \n",
       "1         70\n",
       "2         76\n",
       "3         17\n",
       "5         13\n",
       "6          9\n",
       "7         29"
      ]
     },
     "execution_count": 7,
     "metadata": {},
     "output_type": "execute_result"
    }
   ],
   "source": [
    "#univariate analysis\n",
    "pd.crosstab(index=train['Type'],columns=\"count\")\n",
    "#classes 2 and 1 are dominating\n"
   ]
  },
  {
   "cell_type": "code",
   "execution_count": 8,
   "metadata": {
    "collapsed": false
   },
   "outputs": [
    {
     "data": {
      "text/plain": [
       "['',\n",
       " 'C:\\\\Users\\\\hpp\\\\Anaconda3\\\\python35.zip',\n",
       " 'C:\\\\Users\\\\hpp\\\\Anaconda3\\\\DLLs',\n",
       " 'C:\\\\Users\\\\hpp\\\\Anaconda3\\\\lib',\n",
       " 'C:\\\\Users\\\\hpp\\\\Anaconda3',\n",
       " 'C:\\\\Users\\\\hpp\\\\Anaconda3\\\\lib\\\\site-packages',\n",
       " 'C:\\\\Users\\\\hpp\\\\Anaconda3\\\\lib\\\\site-packages\\\\Sphinx-1.4.6-py3.5.egg',\n",
       " 'C:\\\\Users\\\\hpp\\\\Anaconda3\\\\lib\\\\site-packages\\\\win32',\n",
       " 'C:\\\\Users\\\\hpp\\\\Anaconda3\\\\lib\\\\site-packages\\\\win32\\\\lib',\n",
       " 'C:\\\\Users\\\\hpp\\\\Anaconda3\\\\lib\\\\site-packages\\\\Pythonwin',\n",
       " 'C:\\\\Users\\\\hpp\\\\Anaconda3\\\\lib\\\\site-packages\\\\setuptools-27.2.0-py3.5.egg',\n",
       " 'C:\\\\Users\\\\hpp\\\\Anaconda3\\\\lib\\\\site-packages\\\\IPython\\\\extensions',\n",
       " 'C:\\\\Users\\\\hpp\\\\.ipython']"
      ]
     },
     "execution_count": 8,
     "metadata": {},
     "output_type": "execute_result"
    }
   ],
   "source": [
    "# In univariate analysis going one by one from in each variable and looking at the frequency distribution and\n",
    "# All independent variable is continuous variable.\n",
    "import matplotlib.pyplot as plt\n",
    "import sys\n",
    "sys.path\n"
   ]
  },
  {
   "cell_type": "code",
   "execution_count": 14,
   "metadata": {
    "collapsed": false
   },
   "outputs": [
    {
     "data": {
      "image/png": "[encoded data removed]",
      "text/plain": [
       "<matplotlib.figure.Figure at 0xcc55d85be0>"
      ]
     },
     "execution_count": 14,
     "metadata": {},
     "output_type": "execute_result"
    }
   ],
   "source": [
    "plt.clf()\n",
    "plt.hist(train['RI'],bins=40)\n",
    "plt.title(\"RI-freq\")\n",
    "plt.xlabel(\"RI\")\n",
    "plt.ylabel(\"frq\")\n",
    "fig1=plt.gcf()\n",
    "fig1\n",
    "#Try different bin size\n",
    "#the data RI is skewed and a lot of outliers are present "
   ]
  },
  {
   "cell_type": "code",
   "execution_count": 13,
   "metadata": {
    "collapsed": false
   },
   "outputs": [
    {
     "data": {
      "image/png": "[encoded data removed]",
      "text/plain": [
       "<matplotlib.figure.Figure at 0xcc55d85be0>"
      ]
     },
     "execution_count": 13,
     "metadata": {},
     "output_type": "execute_result"
    }
   ],
   "source": [
    "plt.clf()\n",
    "plt.hist(train['Si'],bins=40)\n",
    "plt.title(\"Si-freq\")\n",
    "plt.xlabel(\"si\")\n",
    "plt.ylabel(\"frq\")\n",
    "fig1=plt.gcf()\n",
    "#again lot of outliers \n",
    "#here outliers may belong to a particular category which can be seen afterwords\n",
    "fig1"
   ]
  },
  {
   "cell_type": "code",
   "execution_count": 15,
   "metadata": {
    "collapsed": false
   },
   "outputs": [
    {
     "data": {
      "image/png": "[encoded data removed]",
      "text/plain": [
       "<matplotlib.figure.Figure at 0xcc55d85be0>"
      ]
     },
     "execution_count": 15,
     "metadata": {},
     "output_type": "execute_result"
    }
   ],
   "source": [
    "plt.clf()\n",
    "plt.hist(train['Na'],bins=40)\n",
    "plt.title(\"Na-freq\")\n",
    "plt.xlabel(\"na\")\n",
    "plt.ylabel(\"frq\")\n",
    "fig1=plt.gcf()\n",
    "fig1"
   ]
  },
  {
   "cell_type": "code",
   "execution_count": 16,
   "metadata": {
    "collapsed": false
   },
   "outputs": [
    {
     "data": {
      "image/png": "[encoded data removed]",
      "text/plain": [
       "<matplotlib.figure.Figure at 0xcc55d85be0>"
      ]
     },
     "execution_count": 16,
     "metadata": {},
     "output_type": "execute_result"
    }
   ],
   "source": [
    "plt.clf()\n",
    "plt.hist(train['Ca'],bins=40)\n",
    "plt.title(\"Ca-freq\")\n",
    "plt.xlabel(\"Ca\")\n",
    "plt.ylabel(\"frq\")\n",
    "fig1=plt.gcf()\n",
    "fig1"
   ]
  },
  {
   "cell_type": "code",
   "execution_count": 17,
   "metadata": {
    "collapsed": false
   },
   "outputs": [
    {
     "data": {
      "image/png": "[encoded data removed]",
      "text/plain": [
       "<matplotlib.figure.Figure at 0xcc55d85be0>"
      ]
     },
     "execution_count": 17,
     "metadata": {},
     "output_type": "execute_result"
    }
   ],
   "source": [
    "plt.clf()\n",
    "plt.hist(train['Mg'],bins=40)\n",
    "plt.title(\"Mg-freq\")\n",
    "plt.xlabel(\"Mg\")\n",
    "plt.ylabel(\"frq\")\n",
    "fig1=plt.gcf()\n",
    "fig1"
   ]
  },
  {
   "cell_type": "code",
   "execution_count": 18,
   "metadata": {
    "collapsed": false
   },
   "outputs": [
    {
     "data": {
      "image/png": "[encoded data removed]",
      "text/plain": [
       "<matplotlib.figure.Figure at 0xcc55d85be0>"
      ]
     },
     "execution_count": 18,
     "metadata": {},
     "output_type": "execute_result"
    }
   ],
   "source": [
    "plt.clf()\n",
    "plt.hist(train['K'],bins=40)\n",
    "plt.title(\"K-freq\")\n",
    "plt.xlabel(\"K\")\n",
    "plt.ylabel(\"frq\")\n",
    "fig1=plt.gcf()\n",
    "fig1"
   ]
  },
  {
   "cell_type": "code",
   "execution_count": 19,
   "metadata": {
    "collapsed": false
   },
   "outputs": [
    {
     "data": {
      "image/png": "[encoded data removed]",
      "text/plain": [
       "<matplotlib.figure.Figure at 0xcc55d85be0>"
      ]
     },
     "execution_count": 19,
     "metadata": {},
     "output_type": "execute_result"
    }
   ],
   "source": [
    "plt.clf()\n",
    "plt.hist(train['Fe'],bins=40)\n",
    "plt.title(\"Fe-freq\")\n",
    "plt.xlabel(\"Fe\")\n",
    "plt.ylabel(\"frq\")\n",
    "fig1=plt.gcf()\n",
    "fig1"
   ]
  },
  {
   "cell_type": "code",
   "execution_count": 20,
   "metadata": {
    "collapsed": false
   },
   "outputs": [
    {
     "data": {
      "image/png": "[encoded data removed]",
      "text/plain": [
       "<matplotlib.figure.Figure at 0xcc55d85be0>"
      ]
     },
     "execution_count": 20,
     "metadata": {},
     "output_type": "execute_result"
    }
   ],
   "source": [
    "plt.clf()\n",
    "plt.hist(train['Ba'],bins=40)\n",
    "plt.title(\"Ba-freq\")\n",
    "plt.xlabel(\"Ba\")\n",
    "plt.ylabel(\"frq\")\n",
    "fig1=plt.gcf()\n",
    "fig1"
   ]
  },
  {
   "cell_type": "code",
   "execution_count": 22,
   "metadata": {
    "collapsed": false
   },
   "outputs": [
    {
     "data": {
      "image/png": "[encoded data removed]",
      "text/plain": [
       "<matplotlib.figure.Figure at 0xcc55d85be0>"
      ]
     },
     "execution_count": 22,
     "metadata": {},
     "output_type": "execute_result"
    }
   ],
   "source": [
    "plt.clf()\n",
    "plt.hist(train['Al'],bins=40)\n",
    "plt.title(\"Al-freq\")\n",
    "plt.xlabel(\"Al\")\n",
    "plt.ylabel(\"frq\")\n",
    "fig1=plt.gcf()\n",
    "fig1"
   ]
  },
  {
   "cell_type": "code",
   "execution_count": 24,
   "metadata": {
    "collapsed": false
   },
   "outputs": [],
   "source": [
    "#The data is skewed and Fe, Ba , Ca and K are most skewed\n",
    "#outliers K and Ba has most outliers\n",
    "#various ways are there to tackle outliers one of them is tukey's HSD.\n",
    "#as not all variables are on same scale, boxplot may give some intuition\n",
    "\n",
    "# multivariate analysis\n",
    "\n",
    "feat=train.columns[:-1].tolist()\n"
   ]
  },
  {
   "cell_type": "code",
   "execution_count": 25,
   "metadata": {
    "collapsed": false
   },
   "outputs": [
    {
     "data": {
      "text/html": [
       "<div>\n",
       "<table border=\"1\" class=\"dataframe\">\n",
       "  <thead>\n",
       "    <tr style=\"text-align: right;\">\n",
       "      <th></th>\n",
       "      <th>RI</th>\n",
       "      <th>Na</th>\n",
       "      <th>Mg</th>\n",
       "      <th>Al</th>\n",
       "      <th>Si</th>\n",
       "      <th>K</th>\n",
       "      <th>Ca</th>\n",
       "      <th>Ba</th>\n",
       "      <th>Fe</th>\n",
       "    </tr>\n",
       "  </thead>\n",
       "  <tbody>\n",
       "    <tr>\n",
       "      <th>RI</th>\n",
       "      <td>1.000000</td>\n",
       "      <td>-0.191885</td>\n",
       "      <td>-0.122274</td>\n",
       "      <td>-0.407326</td>\n",
       "      <td>-0.542052</td>\n",
       "      <td>-0.289833</td>\n",
       "      <td>0.810403</td>\n",
       "      <td>-0.000386</td>\n",
       "      <td>0.143010</td>\n",
       "    </tr>\n",
       "    <tr>\n",
       "      <th>Na</th>\n",
       "      <td>-0.191885</td>\n",
       "      <td>1.000000</td>\n",
       "      <td>-0.273732</td>\n",
       "      <td>0.156794</td>\n",
       "      <td>-0.069809</td>\n",
       "      <td>-0.266087</td>\n",
       "      <td>-0.275442</td>\n",
       "      <td>0.326603</td>\n",
       "      <td>-0.241346</td>\n",
       "    </tr>\n",
       "    <tr>\n",
       "      <th>Mg</th>\n",
       "      <td>-0.122274</td>\n",
       "      <td>-0.273732</td>\n",
       "      <td>1.000000</td>\n",
       "      <td>-0.481799</td>\n",
       "      <td>-0.165927</td>\n",
       "      <td>0.005396</td>\n",
       "      <td>-0.443750</td>\n",
       "      <td>-0.492262</td>\n",
       "      <td>0.083060</td>\n",
       "    </tr>\n",
       "    <tr>\n",
       "      <th>Al</th>\n",
       "      <td>-0.407326</td>\n",
       "      <td>0.156794</td>\n",
       "      <td>-0.481799</td>\n",
       "      <td>1.000000</td>\n",
       "      <td>-0.005524</td>\n",
       "      <td>0.325958</td>\n",
       "      <td>-0.259592</td>\n",
       "      <td>0.479404</td>\n",
       "      <td>-0.074402</td>\n",
       "    </tr>\n",
       "    <tr>\n",
       "      <th>Si</th>\n",
       "      <td>-0.542052</td>\n",
       "      <td>-0.069809</td>\n",
       "      <td>-0.165927</td>\n",
       "      <td>-0.005524</td>\n",
       "      <td>1.000000</td>\n",
       "      <td>-0.193331</td>\n",
       "      <td>-0.208732</td>\n",
       "      <td>-0.102151</td>\n",
       "      <td>-0.094201</td>\n",
       "    </tr>\n",
       "    <tr>\n",
       "      <th>K</th>\n",
       "      <td>-0.289833</td>\n",
       "      <td>-0.266087</td>\n",
       "      <td>0.005396</td>\n",
       "      <td>0.325958</td>\n",
       "      <td>-0.193331</td>\n",
       "      <td>1.000000</td>\n",
       "      <td>-0.317836</td>\n",
       "      <td>-0.042618</td>\n",
       "      <td>-0.007719</td>\n",
       "    </tr>\n",
       "    <tr>\n",
       "      <th>Ca</th>\n",
       "      <td>0.810403</td>\n",
       "      <td>-0.275442</td>\n",
       "      <td>-0.443750</td>\n",
       "      <td>-0.259592</td>\n",
       "      <td>-0.208732</td>\n",
       "      <td>-0.317836</td>\n",
       "      <td>1.000000</td>\n",
       "      <td>-0.112841</td>\n",
       "      <td>0.124968</td>\n",
       "    </tr>\n",
       "    <tr>\n",
       "      <th>Ba</th>\n",
       "      <td>-0.000386</td>\n",
       "      <td>0.326603</td>\n",
       "      <td>-0.492262</td>\n",
       "      <td>0.479404</td>\n",
       "      <td>-0.102151</td>\n",
       "      <td>-0.042618</td>\n",
       "      <td>-0.112841</td>\n",
       "      <td>1.000000</td>\n",
       "      <td>-0.058692</td>\n",
       "    </tr>\n",
       "    <tr>\n",
       "      <th>Fe</th>\n",
       "      <td>0.143010</td>\n",
       "      <td>-0.241346</td>\n",
       "      <td>0.083060</td>\n",
       "      <td>-0.074402</td>\n",
       "      <td>-0.094201</td>\n",
       "      <td>-0.007719</td>\n",
       "      <td>0.124968</td>\n",
       "      <td>-0.058692</td>\n",
       "      <td>1.000000</td>\n",
       "    </tr>\n",
       "  </tbody>\n",
       "</table>\n",
       "</div>"
      ],
      "text/plain": [
       "          RI        Na        Mg        Al        Si         K        Ca  \\\n",
       "RI  1.000000 -0.191885 -0.122274 -0.407326 -0.542052 -0.289833  0.810403   \n",
       "Na -0.191885  1.000000 -0.273732  0.156794 -0.069809 -0.266087 -0.275442   \n",
       "Mg -0.122274 -0.273732  1.000000 -0.481799 -0.165927  0.005396 -0.443750   \n",
       "Al -0.407326  0.156794 -0.481799  1.000000 -0.005524  0.325958 -0.259592   \n",
       "Si -0.542052 -0.069809 -0.165927 -0.005524  1.000000 -0.193331 -0.208732   \n",
       "K  -0.289833 -0.266087  0.005396  0.325958 -0.193331  1.000000 -0.317836   \n",
       "Ca  0.810403 -0.275442 -0.443750 -0.259592 -0.208732 -0.317836  1.000000   \n",
       "Ba -0.000386  0.326603 -0.492262  0.479404 -0.102151 -0.042618 -0.112841   \n",
       "Fe  0.143010 -0.241346  0.083060 -0.074402 -0.094201 -0.007719  0.124968   \n",
       "\n",
       "          Ba        Fe  \n",
       "RI -0.000386  0.143010  \n",
       "Na  0.326603 -0.241346  \n",
       "Mg -0.492262  0.083060  \n",
       "Al  0.479404 -0.074402  \n",
       "Si -0.102151 -0.094201  \n",
       "K  -0.042618 -0.007719  \n",
       "Ca -0.112841  0.124968  \n",
       "Ba  1.000000 -0.058692  \n",
       "Fe -0.058692  1.000000  "
      ]
     },
     "execution_count": 25,
     "metadata": {},
     "output_type": "execute_result"
    }
   ],
   "source": [
    "corr=train[feat].corr()\n",
    "corr\n",
    "#lot of correlation values heatmap can be made to get the better visualisation\n",
    "#lot of correlation is there and different ways to tackle correlation can be used\n",
    "#RI is highly correlated with Si, Ca.\n",
    "#Mg is correlated with Al and Ba\n"
   ]
  },
  {
   "cell_type": "code",
   "execution_count": 26,
   "metadata": {
    "collapsed": false
   },
   "outputs": [
    {
     "name": "stdout",
     "output_type": "stream",
     "text": [
      "<class 'pandas.core.frame.DataFrame'>\n",
      "RangeIndex: 214 entries, 0 to 213\n",
      "Data columns (total 10 columns):\n",
      "RI      214 non-null float64\n",
      "Na      214 non-null float64\n",
      "Mg      214 non-null float64\n",
      "Al      214 non-null float64\n",
      "Si      214 non-null float64\n",
      "K       214 non-null float64\n",
      "Ca      214 non-null float64\n",
      "Ba      214 non-null float64\n",
      "Fe      214 non-null float64\n",
      "Type    214 non-null int64\n",
      "dtypes: float64(9), int64(1)\n",
      "memory usage: 16.8 KB\n"
     ]
    }
   ],
   "source": [
    "#missing value\n",
    "train.info()\n",
    "#No missing value yeah!\n"
   ]
  },
  {
   "cell_type": "code",
   "execution_count": 28,
   "metadata": {
    "collapsed": false
   },
   "outputs": [
    {
     "data": {
      "text/plain": [
       "RI    1.625431\n",
       "Na    0.454181\n",
       "Mg   -1.152559\n",
       "Al    0.907290\n",
       "Si   -0.730447\n",
       "K     6.551648\n",
       "Ca    2.047054\n",
       "Ba    3.416425\n",
       "Fe    1.754327\n",
       "dtype: float64"
      ]
     },
     "execution_count": 28,
     "metadata": {},
     "output_type": "execute_result"
    }
   ],
   "source": [
    "train[feat].skew()\n",
    "#Most skewed dataset is fe,Ba,Ca,K,Mg,RI"
   ]
  },
  {
   "cell_type": "code",
   "execution_count": null,
   "metadata": {
    "collapsed": true
   },
   "outputs": [],
   "source": [
    "# data normalization is important because in SVM distance to classify to normalisation can be considered\n",
    "#Normalisation and transformation will be useful for reducing skewness in data also\n",
    "#looking at distribution of each feature w.r.t each type of class can help to get some intution\n",
    "#to remove correlation we can apply PCA or we can remove one of the feature (preferable PCA so not to lose information)\n",
    "#feature importance can be calculated with the help of recursive feature elimination\n",
    "\n",
    "#transformation - http://fmwww.bc.edu/repec/bocode/t/transint.html\n",
    "\n"
   ]
  },
  {
   "cell_type": "code",
   "execution_count": 57,
   "metadata": {
    "collapsed": false
   },
   "outputs": [],
   "source": [
    "# lets go after outliers which can be identified with Tukey's HSD\n",
    "def outlier(data):\n",
    "        outlier_index=[]\n",
    "        for i in data.columns.tolist():\n",
    "            Q1=np.percentile(data[i],25)\n",
    "            Q3=np.percentile(data[i],75)\n",
    "            IQR=Q3-Q1\n",
    "            outlier_step=1.5*IQR\n",
    "            outlier_list=data[(data[i]<(Q1-outlier_step))|(data[i]>(Q3+outlier_step))].index\n",
    "            outlier_index.extend(outlier_list)\n",
    "            return (outlier_index)\n",
    "ot=outlier(train[feat])\n",
    "train.drop(ot,inplace=True)"
   ]
  },
  {
   "cell_type": "code",
   "execution_count": 42,
   "metadata": {
    "collapsed": false
   },
   "outputs": [
    {
     "data": {
      "image/png": "[encoded data removed]",
      "text/plain": [
       "<matplotlib.figure.Figure at 0xcc55d85be0>"
      ]
     },
     "execution_count": 42,
     "metadata": {},
     "output_type": "execute_result"
    }
   ],
   "source": [
    "plt.clf()\n",
    "plt.hist(train['RI'],bins=40)\n",
    "plt.xlabel('RI')\n",
    "plt.ylabel(\"frq\")\n",
    "fig1=plt.gcf()\n",
    "fig1\n",
    "    \n",
    "    "
   ]
  },
  {
   "cell_type": "code",
   "execution_count": 43,
   "metadata": {
    "collapsed": false
   },
   "outputs": [
    {
     "data": {
      "image/png": "[encoded data removed]",
      "text/plain": [
       "<matplotlib.figure.Figure at 0xcc55d85be0>"
      ]
     },
     "execution_count": 43,
     "metadata": {},
     "output_type": "execute_result"
    }
   ],
   "source": [
    "plt.clf()\n",
    "plt.hist(train['Na'],bins=40)\n",
    "plt.xlabel('Na')\n",
    "plt.ylabel(\"frq\")\n",
    "fig1=plt.gcf()\n",
    "fig1\n",
    "    "
   ]
  },
  {
   "cell_type": "code",
   "execution_count": 45,
   "metadata": {
    "collapsed": false
   },
   "outputs": [
    {
     "data": {
      "image/png": "[encoded data removed]",
      "text/plain": [
       "<matplotlib.figure.Figure at 0xcc55d85be0>"
      ]
     },
     "execution_count": 45,
     "metadata": {},
     "output_type": "execute_result"
    }
   ],
   "source": [
    "plt.clf()\n",
    "plt.hist(train['Mg'],bins=40)\n",
    "plt.xlabel('Mg')\n",
    "plt.ylabel(\"frq\")\n",
    "fig1=plt.gcf()\n",
    "fig1\n",
    "    "
   ]
  },
  {
   "cell_type": "code",
   "execution_count": 46,
   "metadata": {
    "collapsed": false
   },
   "outputs": [
    {
     "data": {
      "image/png": "[encoded data removed]",
      "text/plain": [
       "<matplotlib.figure.Figure at 0xcc55d85be0>"
      ]
     },
     "execution_count": 46,
     "metadata": {},
     "output_type": "execute_result"
    }
   ],
   "source": [
    "plt.clf()\n",
    "plt.hist(train['Al'],bins=40)\n",
    "plt.xlabel('Al')\n",
    "plt.ylabel(\"frq\")\n",
    "fig1=plt.gcf()\n",
    "fig1\n",
    "    "
   ]
  },
  {
   "cell_type": "code",
   "execution_count": 47,
   "metadata": {
    "collapsed": false
   },
   "outputs": [
    {
     "data": {
      "image/png": "[encoded data removed]",
      "text/plain": [
       "<matplotlib.figure.Figure at 0xcc55d85be0>"
      ]
     },
     "execution_count": 47,
     "metadata": {},
     "output_type": "execute_result"
    }
   ],
   "source": [
    "plt.clf()\n",
    "plt.hist(train['Si'],bins=40)\n",
    "plt.xlabel('Si')\n",
    "plt.ylabel(\"frq\")\n",
    "fig1=plt.gcf()\n",
    "fig1\n",
    "    "
   ]
  },
  {
   "cell_type": "code",
   "execution_count": 48,
   "metadata": {
    "collapsed": false
   },
   "outputs": [
    {
     "data": {
      "image/png": "[encoded data removed]",
      "text/plain": [
       "<matplotlib.figure.Figure at 0xcc55d85be0>"
      ]
     },
     "execution_count": 48,
     "metadata": {},
     "output_type": "execute_result"
    }
   ],
   "source": [
    "plt.clf()\n",
    "plt.hist(train['K'],bins=40)\n",
    "plt.xlabel('K')\n",
    "plt.ylabel(\"frq\")\n",
    "fig1=plt.gcf()\n",
    "fig1\n",
    "    "
   ]
  },
  {
   "cell_type": "code",
   "execution_count": 49,
   "metadata": {
    "collapsed": false
   },
   "outputs": [
    {
     "data": {
      "image/png": "[encoded data removed]",
      "text/plain": [
       "<matplotlib.figure.Figure at 0xcc55d85be0>"
      ]
     },
     "execution_count": 49,
     "metadata": {},
     "output_type": "execute_result"
    }
   ],
   "source": [
    "plt.clf()\n",
    "plt.hist(train['Ca'],bins=40)\n",
    "plt.xlabel('Ca')\n",
    "plt.ylabel(\"frq\")\n",
    "fig1=plt.gcf()\n",
    "fig1\n",
    "    "
   ]
  },
  {
   "cell_type": "code",
   "execution_count": 50,
   "metadata": {
    "collapsed": false
   },
   "outputs": [
    {
     "data": {
      "image/png": "[encoded data removed]",
      "text/plain": [
       "<matplotlib.figure.Figure at 0xcc55d85be0>"
      ]
     },
     "execution_count": 50,
     "metadata": {},
     "output_type": "execute_result"
    }
   ],
   "source": [
    "plt.clf()\n",
    "plt.hist(train['Fe'],bins=40)\n",
    "plt.xlabel('Fe')\n",
    "plt.ylabel(\"frq\")\n",
    "fig1=plt.gcf()\n",
    "fig1\n",
    "    "
   ]
  },
  {
   "cell_type": "code",
   "execution_count": 51,
   "metadata": {
    "collapsed": false
   },
   "outputs": [
    {
     "data": {
      "image/png": "[encoded data removed]",
      "text/plain": [
       "<matplotlib.figure.Figure at 0xcc55d85be0>"
      ]
     },
     "execution_count": 51,
     "metadata": {},
     "output_type": "execute_result"
    }
   ],
   "source": [
    "plt.clf()\n",
    "plt.hist(train['Ba'],bins=40)\n",
    "plt.xlabel('Ba')\n",
    "plt.ylabel(\"frq\")\n",
    "fig1=plt.gcf()\n",
    "fig1\n",
    "    "
   ]
  },
  {
   "cell_type": "code",
   "execution_count": 52,
   "metadata": {
    "collapsed": false
   },
   "outputs": [
    {
     "data": {
      "text/plain": [
       "RI    0.470849\n",
       "Na    0.769483\n",
       "Mg   -1.390967\n",
       "Al    1.198670\n",
       "Si   -0.560738\n",
       "K     1.777861\n",
       "Ca    1.137346\n",
       "Ba    3.066943\n",
       "Fe    1.855276\n",
       "dtype: float64"
      ]
     },
     "execution_count": 52,
     "metadata": {},
     "output_type": "execute_result"
    }
   ],
   "source": [
    "train[feat].skew()\n",
    "#skewness is reduced but still skewness can be reduced\n",
    "#by transformation and normalisation can be done to take all of them on same scal"
   ]
  },
  {
   "cell_type": "code",
   "execution_count": 54,
   "metadata": {
    "collapsed": false
   },
   "outputs": [
    {
     "data": {
      "text/html": [
       "<div>\n",
       "<table border=\"1\" class=\"dataframe\">\n",
       "  <thead>\n",
       "    <tr style=\"text-align: right;\">\n",
       "      <th></th>\n",
       "      <th>RI</th>\n",
       "      <th>Na</th>\n",
       "      <th>Mg</th>\n",
       "      <th>Al</th>\n",
       "      <th>Si</th>\n",
       "      <th>K</th>\n",
       "      <th>Ca</th>\n",
       "      <th>Ba</th>\n",
       "      <th>Fe</th>\n",
       "      <th>Type</th>\n",
       "    </tr>\n",
       "  </thead>\n",
       "  <tbody>\n",
       "    <tr>\n",
       "      <th>count</th>\n",
       "      <td>172.000000</td>\n",
       "      <td>172.000000</td>\n",
       "      <td>172.000000</td>\n",
       "      <td>172.000000</td>\n",
       "      <td>172.000000</td>\n",
       "      <td>172.000000</td>\n",
       "      <td>172.000000</td>\n",
       "      <td>172.000000</td>\n",
       "      <td>172.000000</td>\n",
       "      <td>172.000000</td>\n",
       "    </tr>\n",
       "    <tr>\n",
       "      <th>mean</th>\n",
       "      <td>1.517474</td>\n",
       "      <td>13.406802</td>\n",
       "      <td>2.791977</td>\n",
       "      <td>1.516047</td>\n",
       "      <td>72.813081</td>\n",
       "      <td>0.484012</td>\n",
       "      <td>8.619651</td>\n",
       "      <td>0.182791</td>\n",
       "      <td>0.053663</td>\n",
       "      <td>2.773256</td>\n",
       "    </tr>\n",
       "    <tr>\n",
       "      <th>std</th>\n",
       "      <td>0.001324</td>\n",
       "      <td>0.672000</td>\n",
       "      <td>1.369472</td>\n",
       "      <td>0.442586</td>\n",
       "      <td>0.557500</td>\n",
       "      <td>0.333308</td>\n",
       "      <td>0.813593</td>\n",
       "      <td>0.479453</td>\n",
       "      <td>0.093852</td>\n",
       "      <td>2.116707</td>\n",
       "    </tr>\n",
       "    <tr>\n",
       "      <th>min</th>\n",
       "      <td>1.514090</td>\n",
       "      <td>11.950000</td>\n",
       "      <td>0.000000</td>\n",
       "      <td>0.290000</td>\n",
       "      <td>69.890000</td>\n",
       "      <td>0.000000</td>\n",
       "      <td>5.790000</td>\n",
       "      <td>0.000000</td>\n",
       "      <td>0.000000</td>\n",
       "      <td>1.000000</td>\n",
       "    </tr>\n",
       "    <tr>\n",
       "      <th>25%</th>\n",
       "      <td>1.516450</td>\n",
       "      <td>12.877500</td>\n",
       "      <td>2.717500</td>\n",
       "      <td>1.250000</td>\n",
       "      <td>72.537500</td>\n",
       "      <td>0.365000</td>\n",
       "      <td>8.210000</td>\n",
       "      <td>0.000000</td>\n",
       "      <td>0.000000</td>\n",
       "      <td>1.000000</td>\n",
       "    </tr>\n",
       "    <tr>\n",
       "      <th>50%</th>\n",
       "      <td>1.517490</td>\n",
       "      <td>13.260000</td>\n",
       "      <td>3.480000</td>\n",
       "      <td>1.430000</td>\n",
       "      <td>72.865000</td>\n",
       "      <td>0.570000</td>\n",
       "      <td>8.530000</td>\n",
       "      <td>0.000000</td>\n",
       "      <td>0.000000</td>\n",
       "      <td>2.000000</td>\n",
       "    </tr>\n",
       "    <tr>\n",
       "      <th>75%</th>\n",
       "      <td>1.518295</td>\n",
       "      <td>13.735000</td>\n",
       "      <td>3.582500</td>\n",
       "      <td>1.662500</td>\n",
       "      <td>73.110000</td>\n",
       "      <td>0.610000</td>\n",
       "      <td>8.845000</td>\n",
       "      <td>0.000000</td>\n",
       "      <td>0.090000</td>\n",
       "      <td>3.000000</td>\n",
       "    </tr>\n",
       "    <tr>\n",
       "      <th>max</th>\n",
       "      <td>1.521010</td>\n",
       "      <td>15.150000</td>\n",
       "      <td>4.490000</td>\n",
       "      <td>3.500000</td>\n",
       "      <td>75.180000</td>\n",
       "      <td>2.700000</td>\n",
       "      <td>12.500000</td>\n",
       "      <td>2.880000</td>\n",
       "      <td>0.510000</td>\n",
       "      <td>7.000000</td>\n",
       "    </tr>\n",
       "  </tbody>\n",
       "</table>\n",
       "</div>"
      ],
      "text/plain": [
       "               RI          Na          Mg          Al          Si           K  \\\n",
       "count  172.000000  172.000000  172.000000  172.000000  172.000000  172.000000   \n",
       "mean     1.517474   13.406802    2.791977    1.516047   72.813081    0.484012   \n",
       "std      0.001324    0.672000    1.369472    0.442586    0.557500    0.333308   \n",
       "min      1.514090   11.950000    0.000000    0.290000   69.890000    0.000000   \n",
       "25%      1.516450   12.877500    2.717500    1.250000   72.537500    0.365000   \n",
       "50%      1.517490   13.260000    3.480000    1.430000   72.865000    0.570000   \n",
       "75%      1.518295   13.735000    3.582500    1.662500   73.110000    0.610000   \n",
       "max      1.521010   15.150000    4.490000    3.500000   75.180000    2.700000   \n",
       "\n",
       "               Ca          Ba          Fe        Type  \n",
       "count  172.000000  172.000000  172.000000  172.000000  \n",
       "mean     8.619651    0.182791    0.053663    2.773256  \n",
       "std      0.813593    0.479453    0.093852    2.116707  \n",
       "min      5.790000    0.000000    0.000000    1.000000  \n",
       "25%      8.210000    0.000000    0.000000    1.000000  \n",
       "50%      8.530000    0.000000    0.000000    2.000000  \n",
       "75%      8.845000    0.000000    0.090000    3.000000  \n",
       "max     12.500000    2.880000    0.510000    7.000000  "
      ]
     },
     "execution_count": 54,
     "metadata": {},
     "output_type": "execute_result"
    }
   ],
   "source": [
    "#  A distribution that is symmetric or nearly so is often easier to handle and interpret than a skewed distribution.\n",
    "# Applying BoxCox transformation\n",
    "train.describe()"
   ]
  },
  {
   "cell_type": "code",
   "execution_count": 56,
   "metadata": {
    "collapsed": false
   },
   "outputs": [
    {
     "data": {
      "text/html": [
       "<div>\n",
       "<table border=\"1\" class=\"dataframe\">\n",
       "  <thead>\n",
       "    <tr style=\"text-align: right;\">\n",
       "      <th>col_0</th>\n",
       "      <th>count</th>\n",
       "    </tr>\n",
       "    <tr>\n",
       "      <th>Type</th>\n",
       "      <th></th>\n",
       "    </tr>\n",
       "  </thead>\n",
       "  <tbody>\n",
       "    <tr>\n",
       "      <th>1</th>\n",
       "      <td>55</td>\n",
       "    </tr>\n",
       "    <tr>\n",
       "      <th>2</th>\n",
       "      <td>64</td>\n",
       "    </tr>\n",
       "    <tr>\n",
       "      <th>3</th>\n",
       "      <td>14</td>\n",
       "    </tr>\n",
       "    <tr>\n",
       "      <th>5</th>\n",
       "      <td>7</td>\n",
       "    </tr>\n",
       "    <tr>\n",
       "      <th>6</th>\n",
       "      <td>7</td>\n",
       "    </tr>\n",
       "    <tr>\n",
       "      <th>7</th>\n",
       "      <td>25</td>\n",
       "    </tr>\n",
       "  </tbody>\n",
       "</table>\n",
       "</div>"
      ],
      "text/plain": [
       "col_0  count\n",
       "Type        \n",
       "1         55\n",
       "2         64\n",
       "3         14\n",
       "5          7\n",
       "6          7\n",
       "7         25"
      ]
     },
     "execution_count": 56,
     "metadata": {},
     "output_type": "execute_result"
    }
   ],
   "source": [
    "pd.crosstab(train[\"Type\"],columns=\"count\")"
   ]
  },
  {
   "cell_type": "code",
   "execution_count": 61,
   "metadata": {
    "collapsed": false
   },
   "outputs": [
    {
     "name": "stderr",
     "output_type": "stream",
     "text": [
      "C:\\Users\\hpp\\Anaconda3\\lib\\site-packages\\numpy\\lib\\function_base.py:3834: RuntimeWarning: Invalid value encountered in percentile\n",
      "  RuntimeWarning)\n"
     ]
    },
    {
     "data": {
      "text/html": [
       "<div>\n",
       "<table border=\"1\" class=\"dataframe\">\n",
       "  <thead>\n",
       "    <tr style=\"text-align: right;\">\n",
       "      <th></th>\n",
       "      <th>RI</th>\n",
       "      <th>Na</th>\n",
       "      <th>Mg</th>\n",
       "      <th>Al</th>\n",
       "      <th>Si</th>\n",
       "      <th>K</th>\n",
       "      <th>Ca</th>\n",
       "      <th>Ba</th>\n",
       "      <th>Fe</th>\n",
       "      <th>Type</th>\n",
       "    </tr>\n",
       "  </thead>\n",
       "  <tbody>\n",
       "    <tr>\n",
       "      <th>count</th>\n",
       "      <td>1.720000e+02</td>\n",
       "      <td>1.720000e+02</td>\n",
       "      <td>172.000000</td>\n",
       "      <td>172.000000</td>\n",
       "      <td>1.720000e+02</td>\n",
       "      <td>172.000000</td>\n",
       "      <td>172.000000</td>\n",
       "      <td>172.000000</td>\n",
       "      <td>172.000000</td>\n",
       "      <td>138.000000</td>\n",
       "    </tr>\n",
       "    <tr>\n",
       "      <th>mean</th>\n",
       "      <td>3.507953e-03</td>\n",
       "      <td>1.697161e-01</td>\n",
       "      <td>15.423279</td>\n",
       "      <td>0.806488</td>\n",
       "      <td>1.009147e+17</td>\n",
       "      <td>0.376867</td>\n",
       "      <td>1.554420</td>\n",
       "      <td>0.023517</td>\n",
       "      <td>0.016929</td>\n",
       "      <td>1.811594</td>\n",
       "    </tr>\n",
       "    <tr>\n",
       "      <th>std</th>\n",
       "      <td>1.478820e-17</td>\n",
       "      <td>6.588088e-09</td>\n",
       "      <td>8.266208</td>\n",
       "      <td>0.132788</td>\n",
       "      <td>7.252737e+15</td>\n",
       "      <td>0.220777</td>\n",
       "      <td>0.037008</td>\n",
       "      <td>0.047944</td>\n",
       "      <td>0.025632</td>\n",
       "      <td>0.892391</td>\n",
       "    </tr>\n",
       "    <tr>\n",
       "      <th>min</th>\n",
       "      <td>3.507953e-03</td>\n",
       "      <td>1.697161e-01</td>\n",
       "      <td>0.000000</td>\n",
       "      <td>0.246425</td>\n",
       "      <td>6.823150e+16</td>\n",
       "      <td>0.000000</td>\n",
       "      <td>1.390330</td>\n",
       "      <td>0.000000</td>\n",
       "      <td>0.000000</td>\n",
       "      <td>1.000000</td>\n",
       "    </tr>\n",
       "    <tr>\n",
       "      <th>25%</th>\n",
       "      <td>3.507953e-03</td>\n",
       "      <td>1.697161e-01</td>\n",
       "      <td>11.654279</td>\n",
       "      <td>0.731420</td>\n",
       "      <td>9.711826e+16</td>\n",
       "      <td>0.313961</td>\n",
       "      <td>1.536844</td>\n",
       "      <td>0.000000</td>\n",
       "      <td>0.000000</td>\n",
       "      <td>NaN</td>\n",
       "    </tr>\n",
       "    <tr>\n",
       "      <th>50%</th>\n",
       "      <td>3.507953e-03</td>\n",
       "      <td>1.697161e-01</td>\n",
       "      <td>19.282693</td>\n",
       "      <td>0.793182</td>\n",
       "      <td>1.013635e+17</td>\n",
       "      <td>0.457031</td>\n",
       "      <td>1.552295</td>\n",
       "      <td>0.000000</td>\n",
       "      <td>0.000000</td>\n",
       "      <td>NaN</td>\n",
       "    </tr>\n",
       "    <tr>\n",
       "      <th>75%</th>\n",
       "      <td>3.507953e-03</td>\n",
       "      <td>1.697161e-01</td>\n",
       "      <td>20.488781</td>\n",
       "      <td>0.864928</td>\n",
       "      <td>1.046472e+17</td>\n",
       "      <td>0.482876</td>\n",
       "      <td>1.566831</td>\n",
       "      <td>0.000000</td>\n",
       "      <td>0.046975</td>\n",
       "      <td>NaN</td>\n",
       "    </tr>\n",
       "    <tr>\n",
       "      <th>max</th>\n",
       "      <td>3.507953e-03</td>\n",
       "      <td>1.697161e-01</td>\n",
       "      <td>33.193077</td>\n",
       "      <td>1.245689</td>\n",
       "      <td>1.364329e+17</td>\n",
       "      <td>1.359280</td>\n",
       "      <td>1.699600</td>\n",
       "      <td>0.130503</td>\n",
       "      <td>0.062953</td>\n",
       "      <td>5.000000</td>\n",
       "    </tr>\n",
       "  </tbody>\n",
       "</table>\n",
       "</div>"
      ],
      "text/plain": [
       "                 RI            Na          Mg          Al            Si  \\\n",
       "count  1.720000e+02  1.720000e+02  172.000000  172.000000  1.720000e+02   \n",
       "mean   3.507953e-03  1.697161e-01   15.423279    0.806488  1.009147e+17   \n",
       "std    1.478820e-17  6.588088e-09    8.266208    0.132788  7.252737e+15   \n",
       "min    3.507953e-03  1.697161e-01    0.000000    0.246425  6.823150e+16   \n",
       "25%    3.507953e-03  1.697161e-01   11.654279    0.731420  9.711826e+16   \n",
       "50%    3.507953e-03  1.697161e-01   19.282693    0.793182  1.013635e+17   \n",
       "75%    3.507953e-03  1.697161e-01   20.488781    0.864928  1.046472e+17   \n",
       "max    3.507953e-03  1.697161e-01   33.193077    1.245689  1.364329e+17   \n",
       "\n",
       "                K          Ca          Ba          Fe        Type  \n",
       "count  172.000000  172.000000  172.000000  172.000000  138.000000  \n",
       "mean     0.376867    1.554420    0.023517    0.016929    1.811594  \n",
       "std      0.220777    0.037008    0.047944    0.025632    0.892391  \n",
       "min      0.000000    1.390330    0.000000    0.000000    1.000000  \n",
       "25%      0.313961    1.536844    0.000000    0.000000         NaN  \n",
       "50%      0.457031    1.552295    0.000000    0.000000         NaN  \n",
       "75%      0.482876    1.566831    0.000000    0.046975         NaN  \n",
       "max      1.359280    1.699600    0.130503    0.062953    5.000000  "
      ]
     },
     "execution_count": 61,
     "metadata": {},
     "output_type": "execute_result"
    }
   ],
   "source": [
    "from scipy.stats import boxcox\n",
    "features_bc = []\n",
    "\n",
    "for feature in feat:\n",
    "    bc_transformed, _ = boxcox(train[feature]+1)  # shift by 1 to avoid computing log of negative values\n",
    "    features_bc.append(bc_transformed)\n",
    "\n",
    "features_boxcox = np.column_stack(features_bc)\n",
    "df_bc = pd.DataFrame(data=features_boxcox, columns=feat)\n",
    "df_bc['Type'] = train['Type']\n",
    "df_bc.describe()"
   ]
  },
  {
   "cell_type": "code",
   "execution_count": 65,
   "metadata": {
    "collapsed": false
   },
   "outputs": [
    {
     "name": "stdout",
     "output_type": "stream",
     "text": [
      "RI    0.000000\n",
      "Na    0.000000\n",
      "Mg   -1.002918\n",
      "Al   -0.035515\n",
      "Si    0.117081\n",
      "K     0.007275\n",
      "Ca   -0.055444\n",
      "Ba    1.635453\n",
      "Fe    0.904664\n",
      "dtype: float64\n",
      "\n",
      "\n",
      "RI    0.470849\n",
      "Na    0.769483\n",
      "Mg   -1.390967\n",
      "Al    1.198670\n",
      "Si   -0.560738\n",
      "K     1.777861\n",
      "Ca    1.137346\n",
      "Ba    3.066943\n",
      "Fe    1.855276\n",
      "dtype: float64\n"
     ]
    }
   ],
   "source": [
    "print(df_bc[feat].skew())\n",
    "print(\"\\n\")\n",
    "print(train[feat].skew())\n",
    "#boxcox helped a lot in reducing skewness and all the variables are on same scale now so no leverage to any one.\n"
   ]
  },
  {
   "cell_type": "code",
   "execution_count": 66,
   "metadata": {
    "collapsed": false
   },
   "outputs": [
    {
     "data": {
      "image/png": "[encoded data removed]",
      "text/plain": [
       "<matplotlib.figure.Figure at 0xcc55d85be0>"
      ]
     },
     "execution_count": 66,
     "metadata": {},
     "output_type": "execute_result"
    }
   ],
   "source": [
    "plt.clf()\n",
    "plt.hist(df_bc['RI'],bins=40)\n",
    "plt.xlabel('RI')\n",
    "plt.ylabel(\"frq\")\n",
    "fig1=plt.gcf()\n",
    "fig1\n",
    "    "
   ]
  },
  {
   "cell_type": "code",
   "execution_count": 68,
   "metadata": {
    "collapsed": false
   },
   "outputs": [
    {
     "data": {
      "image/png": "[encoded data removed]",
      "text/plain": [
       "<matplotlib.figure.Figure at 0xcc55d85be0>"
      ]
     },
     "execution_count": 68,
     "metadata": {},
     "output_type": "execute_result"
    }
   ],
   "source": [
    "plt.clf()\n",
    "plt.hist(df_bc['Mg'],bins=40)\n",
    "plt.xlabel('Mg')\n",
    "plt.ylabel(\"frq\")\n",
    "fig1=plt.gcf()\n",
    "fig1\n",
    "    "
   ]
  },
  {
   "cell_type": "code",
   "execution_count": 69,
   "metadata": {
    "collapsed": false
   },
   "outputs": [
    {
     "data": {
      "image/png": "[encoded data removed]",
      "text/plain": [
       "<matplotlib.figure.Figure at 0xcc55d85be0>"
      ]
     },
     "execution_count": 69,
     "metadata": {},
     "output_type": "execute_result"
    }
   ],
   "source": [
    "plt.clf()\n",
    "plt.hist(df_bc['Ca'],bins=40)\n",
    "plt.xlabel('Ca')\n",
    "plt.ylabel(\"freq\")\n",
    "fig1=plt.gcf()\n",
    "fig1\n",
    "    "
   ]
  },
  {
   "cell_type": "code",
   "execution_count": 70,
   "metadata": {
    "collapsed": false
   },
   "outputs": [
    {
     "data": {
      "image/png": "[encoded data removed]",
      "text/plain": [
       "<matplotlib.figure.Figure at 0xcc55d85be0>"
      ]
     },
     "execution_count": 70,
     "metadata": {},
     "output_type": "execute_result"
    }
   ],
   "source": [
    "plt.clf()\n",
    "plt.hist(df_bc['Si'],bins=40)\n",
    "plt.xlabel('Si')\n",
    "plt.ylabel(\"frq\")\n",
    "fig1=plt.gcf()\n",
    "fig1\n",
    "    "
   ]
  },
  {
   "cell_type": "code",
   "execution_count": 71,
   "metadata": {
    "collapsed": false
   },
   "outputs": [
    {
     "data": {
      "image/png": "[encoded data removed]",
      "text/plain": [
       "<matplotlib.figure.Figure at 0xcc55d85be0>"
      ]
     },
     "execution_count": 71,
     "metadata": {},
     "output_type": "execute_result"
    }
   ],
   "source": [
    "plt.clf()\n",
    "plt.hist(df_bc['K'],bins=40)\n",
    "plt.xlabel('K')\n",
    "plt.ylabel(\"frq\")\n",
    "fig1=plt.gcf()\n",
    "fig1\n",
    "    "
   ]
  },
  {
   "cell_type": "code",
   "execution_count": 72,
   "metadata": {
    "collapsed": false
   },
   "outputs": [
    {
     "data": {
      "image/png": "[encoded data removed]",
      "text/plain": [
       "<matplotlib.figure.Figure at 0xcc55d85be0>"
      ]
     },
     "execution_count": 72,
     "metadata": {},
     "output_type": "execute_result"
    }
   ],
   "source": [
    "plt.clf()\n",
    "plt.hist(df_bc['Ba'],bins=40)\n",
    "plt.xlabel('Ba')\n",
    "plt.ylabel(\"frq\")\n",
    "fig1=plt.gcf()\n",
    "fig1\n",
    "    "
   ]
  },
  {
   "cell_type": "code",
   "execution_count": 73,
   "metadata": {
    "collapsed": false
   },
   "outputs": [
    {
     "data": {
      "image/png": "[encoded data removed]",
      "text/plain": [
       "<matplotlib.figure.Figure at 0xcc55d85be0>"
      ]
     },
     "execution_count": 73,
     "metadata": {},
     "output_type": "execute_result"
    }
   ],
   "source": [
    "plt.clf()\n",
    "plt.hist(df_bc['Fe'],bins=40)\n",
    "plt.xlabel('Fe')\n",
    "plt.ylabel(\"frq\")\n",
    "fig1=plt.gcf()\n",
    "fig1\n",
    "    "
   ]
  },
  {
   "cell_type": "code",
   "execution_count": 74,
   "metadata": {
    "collapsed": false
   },
   "outputs": [
    {
     "data": {
      "image/png": "[encoded data removed]",
      "text/plain": [
       "<matplotlib.figure.Figure at 0xcc55d85be0>"
      ]
     },
     "execution_count": 74,
     "metadata": {},
     "output_type": "execute_result"
    }
   ],
   "source": [
    "plt.clf()\n",
    "plt.hist(df_bc['Al'],bins=40)\n",
    "plt.xlabel('Al')\n",
    "plt.ylabel(\"frq\")\n",
    "fig1=plt.gcf()\n",
    "fig1\n",
    "    "
   ]
  },
  {
   "cell_type": "code",
   "execution_count": 75,
   "metadata": {
    "collapsed": false
   },
   "outputs": [
    {
     "data": {
      "image/png": "[encoded data removed]",
      "text/plain": [
       "<matplotlib.figure.Figure at 0xcc55d85be0>"
      ]
     },
     "execution_count": 75,
     "metadata": {},
     "output_type": "execute_result"
    }
   ],
   "source": [
    "plt.clf()\n",
    "plt.hist(df_bc['Na'],bins=40)\n",
    "plt.xlabel('Na')\n",
    "plt.ylabel(\"frq\")\n",
    "fig1=plt.gcf()\n",
    "fig1\n",
    "    "
   ]
  },
  {
   "cell_type": "code",
   "execution_count": 76,
   "metadata": {
    "collapsed": true
   },
   "outputs": [],
   "source": [
    "#feature engineering can be done seeing the multivariate plots or get domain knowledge\n",
    "#to tackle correlation PCA can be used or using feature importance (RFE) select few of them.\n",
    "#and then SVM can be applied\n"
   ]
  },
  {
   "cell_type": "code",
   "execution_count": null,
   "metadata": {
    "collapsed": true
   },
   "outputs": [],
   "source": []
  }
 ],
 "metadata": {
  "anaconda-cloud": {},
  "kernelspec": {
   "display_name": "Python [conda root]",
   "language": "python",
   "name": "conda-root-py"
  },
  "language_info": {
   "codemirror_mode": {
    "name": "ipython",
    "version": 3
   },
   "file_extension": ".py",
   "mimetype": "text/x-python",
   "name": "python",
   "nbconvert_exporter": "python",
   "pygments_lexer": "ipython3",
   "version": "3.5.2"
  }
 },
 "nbformat": 4,
 "nbformat_minor": 1
}
