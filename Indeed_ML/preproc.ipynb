{
 "cells": [
  {
   "cell_type": "code",
   "execution_count": 1,
   "metadata": {
    "collapsed": true
   },
   "outputs": [],
   "source": [
    "#bagofwords\n",
    "import pandas as pd\n",
    "train=pd.read_csv(\"ntrain.csv\")\n",
    "test=pd.read_csv(\"test.tsv\",delimiter=\"\\t\")"
   ]
  },
  {
   "cell_type": "code",
   "execution_count": 5,
   "metadata": {
    "collapsed": true
   },
   "outputs": [],
   "source": [
    "from bs4 import BeautifulSoup"
   ]
  },
  {
   "cell_type": "code",
   "execution_count": 6,
   "metadata": {
    "collapsed": false
   },
   "outputs": [
    {
     "name": "stderr",
     "output_type": "stream",
     "text": [
      "C:\\Users\\hpp\\Anaconda3\\envs\\py27\\lib\\site-packages\\bs4\\__init__.py:181: UserWarning: No parser was explicitly specified, so I'm using the best available HTML parser for this system (\"html.parser\"). This usually isn't a problem, but if you run this code on another system, or in a different virtual environment, it may use a different parser and behave differently.\n",
      "\n",
      "The code that caused this warning is on line 174 of the file C:\\Users\\hpp\\Anaconda3\\envs\\py27\\lib\\runpy.py. To get rid of this warning, change code that looks like this:\n",
      "\n",
      " BeautifulSoup([your markup])\n",
      "\n",
      "to this:\n",
      "\n",
      " BeautifulSoup([your markup], \"html.parser\")\n",
      "\n",
      "  markup_type=markup_type))\n",
      "C:\\Users\\hpp\\Anaconda3\\envs\\py27\\lib\\site-packages\\ipykernel\\__main__.py:3: SettingWithCopyWarning: \n",
      "A value is trying to be set on a copy of a slice from a DataFrame\n",
      "\n",
      "See the caveats in the documentation: http://pandas.pydata.org/pandas-docs/stable/indexing.html#indexing-view-versus-copy\n",
      "  app.launch_new_instance()\n"
     ]
    }
   ],
   "source": [
    "n=train.shape[0]\n",
    "for i in range(n):\n",
    " train[\"description\"][i]=BeautifulSoup(train[\"description\"][i])   "
   ]
  },
  {
   "cell_type": "code",
   "execution_count": 7,
   "metadata": {
    "collapsed": true
   },
   "outputs": [],
   "source": [
    "p=test.shape[0]\n",
    "for i in range(p):\n",
    " test[\"description\"][i]=BeautifulSoup(test[\"description\"][i]) "
   ]
  },
  {
   "cell_type": "code",
   "execution_count": 8,
   "metadata": {
    "collapsed": false
   },
   "outputs": [
    {
     "name": "stderr",
     "output_type": "stream",
     "text": [
      "C:\\Users\\hpp\\Anaconda3\\envs\\py27\\lib\\site-packages\\ipykernel\\__main__.py:4: SettingWithCopyWarning: \n",
      "A value is trying to be set on a copy of a slice from a DataFrame\n",
      "\n",
      "See the caveats in the documentation: http://pandas.pydata.org/pandas-docs/stable/indexing.html#indexing-view-versus-copy\n"
     ]
    }
   ],
   "source": [
    "for i in range(n):\n",
    " t=train.description[i]\n",
    " t=t.decode('unicode_escape').encode('ascii','ignore')\n",
    " train[\"description\"][i]=t   "
   ]
  },
  {
   "cell_type": "code",
   "execution_count": 9,
   "metadata": {
    "collapsed": true
   },
   "outputs": [],
   "source": [
    "for i in range(p):\n",
    " t=test.description[i]\n",
    " t=t.decode('unicode_escape').encode('ascii','ignore')\n",
    " test[\"description\"][i]=t "
   ]
  },
  {
   "cell_type": "code",
   "execution_count": 10,
   "metadata": {
    "collapsed": true
   },
   "outputs": [],
   "source": [
    "for i in range(p):\n",
    " test[\"description\"][i]=test['description'][i].lower()"
   ]
  },
  {
   "cell_type": "code",
   "execution_count": 11,
   "metadata": {
    "collapsed": false
   },
   "outputs": [
    {
     "name": "stderr",
     "output_type": "stream",
     "text": [
      "C:\\Users\\hpp\\Anaconda3\\envs\\py27\\lib\\site-packages\\ipykernel\\__main__.py:2: SettingWithCopyWarning: \n",
      "A value is trying to be set on a copy of a slice from a DataFrame\n",
      "\n",
      "See the caveats in the documentation: http://pandas.pydata.org/pandas-docs/stable/indexing.html#indexing-view-versus-copy\n",
      "  from ipykernel import kernelapp as app\n"
     ]
    }
   ],
   "source": [
    "for i in range(n):\n",
    " train[\"description\"][i]=train['description'][i].lower()   "
   ]
  },
  {
   "cell_type": "code",
   "execution_count": 12,
   "metadata": {
    "collapsed": false
   },
   "outputs": [
    {
     "name": "stderr",
     "output_type": "stream",
     "text": [
      "C:\\Users\\hpp\\Anaconda3\\envs\\py27\\lib\\site-packages\\ipykernel\\__main__.py:4: SettingWithCopyWarning: \n",
      "A value is trying to be set on a copy of a slice from a DataFrame\n",
      "\n",
      "See the caveats in the documentation: http://pandas.pydata.org/pandas-docs/stable/indexing.html#indexing-view-versus-copy\n"
     ]
    }
   ],
   "source": [
    "for i in range(p):\n",
    " test[\"description\"][i]=test['description'][i][:-1]\n",
    "for i in range(n):\n",
    " train[\"description\"][i]=train['description'][i][:-1] "
   ]
  },
  {
   "cell_type": "code",
   "execution_count": 13,
   "metadata": {
    "collapsed": false
   },
   "outputs": [
    {
     "name": "stderr",
     "output_type": "stream",
     "text": [
      "C:\\Users\\hpp\\Anaconda3\\envs\\py27\\lib\\site-packages\\ipykernel\\__main__.py:4: SettingWithCopyWarning: \n",
      "A value is trying to be set on a copy of a slice from a DataFrame\n",
      "\n",
      "See the caveats in the documentation: http://pandas.pydata.org/pandas-docs/stable/indexing.html#indexing-view-versus-copy\n"
     ]
    }
   ],
   "source": [
    "for i in range(p):\n",
    " test[\"description\"][i]=test['description'][i][:-1]\n",
    "for i in range(n):\n",
    " train[\"description\"][i]=train['description'][i][:-1] "
   ]
  },
  {
   "cell_type": "code",
   "execution_count": 14,
   "metadata": {
    "collapsed": false
   },
   "outputs": [
    {
     "name": "stderr",
     "output_type": "stream",
     "text": [
      "C:\\Users\\hpp\\Anaconda3\\envs\\py27\\lib\\site-packages\\ipykernel\\__main__.py:4: SettingWithCopyWarning: \n",
      "A value is trying to be set on a copy of a slice from a DataFrame\n",
      "\n",
      "See the caveats in the documentation: http://pandas.pydata.org/pandas-docs/stable/indexing.html#indexing-view-versus-copy\n"
     ]
    }
   ],
   "source": [
    "test[\"count_site\"]=0\n",
    "for i in range(p):\n",
    "    if (\"www.example.com\" in test.description[i]):\n",
    "        test[\"count_site\"][i]=1"
   ]
  },
  {
   "cell_type": "code",
   "execution_count": 15,
   "metadata": {
    "collapsed": false
   },
   "outputs": [
    {
     "data": {
      "text/plain": [
       "'req#dt0536 front-end web development &amp; graphic design, mclean, va must be a us citizen and able to obtain a secret clearance data tactics corporation is seeking a front-end web development &amp; graphic designer to assist a special project team in creating an interactive gui for a new proprietary software and dashboard. data tactics corporation is a rapidly growing, leading-edge provider of enterprise data management services headquartered in the washington dc metropolitan area, with offices in old town alexandria and tysons corner, virginia. many of our employees work at customer sites throughout the united states &amp; the world. our core competencies include systems and software engineering, enterprise architecture, data management and cyber security. data tactics professionals are currently involved in designing, engineering and supporting cloud-computing architectures throughout the dod and intelligence community (ic). our efforts are helping to define the building blocks that will refine the operational missions and business processes of our customers for years to come. we continually seek talented and motivated technical professionals at all skill levels. we value honesty, integrity, individual excellence, continual self-improvement, constructive criticism, and mutual respect. we look forward to meeting you!! job description:  this position requires a demonstrated ability to stay current with web standards and design best practices. we work in a fast-paced, fun, and collaborative environment with very tight product deliverables timelines. this is a data tactics new proprietary product. we are looking for someone to join our team who is passionate about communication on the web and cares about user experience. job skills: bachelors degree required. two years minimum experience with web technologies. two years experience with adobe cs suite (esp. indesign and illustrator or fireworks). web technologies including dreamweaver or equivalent html editor and the ability to hand code basic html and css. exposure to jquery or javascript libraries preferred. experience with php based content management systems, and post production graphics (motion or after effects) a plus. the ideal candidate would have strong experience with html 5 and java development.  experience with css 3, adaptive/responsive layouts and the ability to manipulate existing php code. required skills:   strong graphic design background with a solid understanding of grid systems background in developing front end components for n-tier web based enterprise using java and html5. demonstrated control of typography demonstrated ability in using java, javascript, html &amp; html 5.0 &amp; css experience building j2ee web application using java html page, email, and template creation editing and creating web style sheets jquery and/or javascript enhancements to user interfaces running updates on cms platforms create and/or update web graphics elements desired skills:   java  javascript html 5.0 dthml  dreamweaver adobe cs (esp. indesign and illustrator or fireworks). css 3 api asp php jsp adobe flash/flex/action script ajax photoshop  jquery/ ui j2ee web application come grow with us!! at data tactics, our vision is to remain a creative, cutting-edge research, development and rapid deployment institution where our shared intellect, hard work, and vanguard for our clients trust make a positive difference in their success, the security of our country, and the lives of our employees. the data tactics team is comprised of industry recognized experts in the field of enterprise architecture, cloud computing, cyber security, engineering, system/software development, data/systems integration, and operations &amp; maintenance (o&amp;m;). we offer challenging and exciting opportunities which can advance your technical skills and provide you with compelling career growth. if youre ready to push yourself and your career to new levels you should consider data tactics corporation, where every day we strive to be the best at what we do! we were recently ranked as one of the 50 fastest growing companies in the dc metro area in 2011 by the washington business journal. we are an equal opportunity/affirmative action employer and offer an excellent benefit package, including:   competitive wages  employer-paid health, dental, &amp; vision insurance (100% employer paid)  employer-paid life insurance for hazardous duty assignments  short and long term disability  15 days total paid time and 9 paid holidays  401k after 90 days  flexible savings accounts for child care and health care  tuition reimbursement  professional development certification programs  employee referral incentives    www.example.co'"
      ]
     },
     "execution_count": 15,
     "metadata": {},
     "output_type": "execute_result"
    }
   ],
   "source": [
    "s=train.description[20]\n",
    "s"
   ]
  },
  {
   "cell_type": "code",
   "execution_count": 16,
   "metadata": {
    "collapsed": false
   },
   "outputs": [
    {
     "ename": "NameError",
     "evalue": "name 'string' is not defined",
     "output_type": "error",
     "traceback": [
      "\u001b[1;31m---------------------------------------------------------------------------\u001b[0m",
      "\u001b[1;31mNameError\u001b[0m                                 Traceback (most recent call last)",
      "\u001b[1;32m<ipython-input-16-b6b1f008f24b>\u001b[0m in \u001b[0;36m<module>\u001b[1;34m()\u001b[0m\n\u001b[1;32m----> 1\u001b[1;33m \u001b[0ms\u001b[0m\u001b[1;33m.\u001b[0m\u001b[0mtranslate\u001b[0m\u001b[1;33m(\u001b[0m\u001b[0mNone\u001b[0m\u001b[1;33m,\u001b[0m\u001b[0mstring\u001b[0m\u001b[1;33m.\u001b[0m\u001b[0mpunctuation\u001b[0m\u001b[1;33m)\u001b[0m\u001b[1;33m\u001b[0m\u001b[0m\n\u001b[0m",
      "\u001b[1;31mNameError\u001b[0m: name 'string' is not defined"
     ]
    }
   ],
   "source": [
    "s.translate(None,string.punctuation)"
   ]
  },
  {
   "cell_type": "code",
   "execution_count": 17,
   "metadata": {
    "collapsed": true
   },
   "outputs": [],
   "source": [
    "train.to_csv(\"ntrain.csv\",index=False)"
   ]
  },
  {
   "cell_type": "code",
   "execution_count": 18,
   "metadata": {
    "collapsed": true
   },
   "outputs": [],
   "source": [
    "test.to_csv(\"test.csv\",index=False)"
   ]
  },
  {
   "cell_type": "code",
   "execution_count": null,
   "metadata": {
    "collapsed": true
   },
   "outputs": [],
   "source": []
  }
 ],
 "metadata": {
  "anaconda-cloud": {},
  "kernelspec": {
   "display_name": "Python [conda env:py27]",
   "language": "python",
   "name": "conda-env-py27-py"
  },
  "language_info": {
   "codemirror_mode": {
    "name": "ipython",
    "version": 2
   },
   "file_extension": ".py",
   "mimetype": "text/x-python",
   "name": "python",
   "nbconvert_exporter": "python",
   "pygments_lexer": "ipython2",
   "version": "2.7.13"
  }
 },
 "nbformat": 4,
 "nbformat_minor": 1
}
